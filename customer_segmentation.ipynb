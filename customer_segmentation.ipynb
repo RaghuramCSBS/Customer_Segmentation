{
  "nbformat": 4,
  "nbformat_minor": 0,
  "metadata": {
    "colab": {
      "provenance": []
    },
    "kernelspec": {
      "name": "python3",
      "display_name": "Python 3"
    },
    "language_info": {
      "name": "python"
    },
    "accelerator": "TPU"
  },
  "cells": [
    {
      "cell_type": "code",
      "source": [
        "import pandas as pd\n",
        "import numpy as np\n",
        "import seaborn as sn\n",
        "import matplotlib.pyplot as plt\n"
      ],
      "metadata": {
        "id": "gkQPy4j9iHTZ"
      },
      "execution_count": null,
      "outputs": []
    },
    {
      "cell_type": "code",
      "execution_count": null,
      "metadata": {
        "colab": {
          "base_uri": "https://localhost:8080/"
        },
        "id": "tHO1QWvcfqcg",
        "outputId": "e96cb309-974c-49a8-d9ac-549578362ae7"
      },
      "outputs": [
        {
          "output_type": "stream",
          "name": "stdout",
          "text": [
            "Drive already mounted at /content/drive; to attempt to forcibly remount, call drive.mount(\"/content/drive\", force_remount=True).\n"
          ]
        }
      ],
      "source": [
        "   from google.colab import drive\n",
        "\n",
        "   drive.mount('/content/drive')"
      ]
    },
    {
      "cell_type": "code",
      "source": [
        "df=pd.read_csv('/content/drive/MyDrive/datasets/Orders - Analysis Task.csv')"
      ],
      "metadata": {
        "id": "bOnl3kY1rjme"
      },
      "execution_count": null,
      "outputs": []
    },
    {
      "cell_type": "code",
      "source": [
        "df.info()"
      ],
      "metadata": {
        "colab": {
          "base_uri": "https://localhost:8080/"
        },
        "id": "mxxEDNcGsxv_",
        "outputId": "f8a87203-9a75-4898-a270-7f63098acb4a"
      },
      "execution_count": null,
      "outputs": [
        {
          "output_type": "stream",
          "name": "stdout",
          "text": [
            "<class 'pandas.core.frame.DataFrame'>\n",
            "RangeIndex: 70052 entries, 0 to 70051\n",
            "Data columns (total 17 columns):\n",
            " #   Column                  Non-Null Count  Dtype  \n",
            "---  ------                  --------------  -----  \n",
            " 0   product_title           70052 non-null  object \n",
            " 1   product_type            70052 non-null  object \n",
            " 2   variant_title           70052 non-null  object \n",
            " 3   variant_sku             70052 non-null  object \n",
            " 4   variant_id              70052 non-null  float64\n",
            " 5   customer_id             70052 non-null  float64\n",
            " 6   order_id                70052 non-null  float64\n",
            " 7   day                     70052 non-null  object \n",
            " 8   net_quantity            70052 non-null  int64  \n",
            " 9   gross_sales             70052 non-null  float64\n",
            " 10  discounts               70052 non-null  float64\n",
            " 11  returns                 70052 non-null  float64\n",
            " 12  net_sales               70052 non-null  float64\n",
            " 13  taxes                   70052 non-null  float64\n",
            " 14  total_sales             70052 non-null  float64\n",
            " 15  returned_item_quantity  70052 non-null  int64  \n",
            " 16  ordered_item_quantity   70052 non-null  int64  \n",
            "dtypes: float64(9), int64(3), object(5)\n",
            "memory usage: 9.1+ MB\n"
          ]
        }
      ]
    },
    {
      "cell_type": "code",
      "source": [
        "df.isnull().sum()"
      ],
      "metadata": {
        "colab": {
          "base_uri": "https://localhost:8080/"
        },
        "id": "2vJc5XAvsx2e",
        "outputId": "b3c43ceb-6235-47c5-d17e-12ff8c95025c"
      },
      "execution_count": null,
      "outputs": [
        {
          "output_type": "execute_result",
          "data": {
            "text/plain": [
              "product_title             0\n",
              "product_type              0\n",
              "variant_title             0\n",
              "variant_sku               0\n",
              "variant_id                0\n",
              "customer_id               0\n",
              "order_id                  0\n",
              "day                       0\n",
              "net_quantity              0\n",
              "gross_sales               0\n",
              "discounts                 0\n",
              "returns                   0\n",
              "net_sales                 0\n",
              "taxes                     0\n",
              "total_sales               0\n",
              "returned_item_quantity    0\n",
              "ordered_item_quantity     0\n",
              "dtype: int64"
            ]
          },
          "metadata": {},
          "execution_count": 5
        }
      ]
    },
    {
      "cell_type": "code",
      "source": [
        "df.duplicated().sum()"
      ],
      "metadata": {
        "colab": {
          "base_uri": "https://localhost:8080/"
        },
        "id": "QgKRcv69sx4g",
        "outputId": "02404edf-d2ad-4548-d6ef-c48895d211b8"
      },
      "execution_count": null,
      "outputs": [
        {
          "output_type": "execute_result",
          "data": {
            "text/plain": [
              "1"
            ]
          },
          "metadata": {},
          "execution_count": 6
        }
      ]
    },
    {
      "cell_type": "code",
      "source": [
        "df=df.drop_duplicates()"
      ],
      "metadata": {
        "id": "qApDuU2tsx6t"
      },
      "execution_count": null,
      "outputs": []
    },
    {
      "cell_type": "code",
      "source": [
        "num_df=df.select_dtypes(include=np.number)"
      ],
      "metadata": {
        "id": "GW4KT-H9vMH6"
      },
      "execution_count": null,
      "outputs": []
    },
    {
      "cell_type": "code",
      "source": [
        "  sn.heatmap(num_df.corr(),cmap='coolwarm')"
      ],
      "metadata": {
        "colab": {
          "base_uri": "https://localhost:8080/",
          "height": 602
        },
        "id": "2XLTJ47ssx9I",
        "outputId": "a9fa4045-e25b-4c9c-fc37-ca0d2ebf7041"
      },
      "execution_count": null,
      "outputs": [
        {
          "output_type": "execute_result",
          "data": {
            "text/plain": [
              "<Axes: >"
            ]
          },
          "metadata": {},
          "execution_count": 9
        },
        {
          "output_type": "display_data",
          "data": {
            "text/plain": [
              "<Figure size 640x480 with 2 Axes>"
            ],
            "image/png": "[encoded data removed]"
          },
          "metadata": {}
        }
      ]
    },
    {
      "cell_type": "code",
      "source": [
        "num_df.corr()"
      ],
      "metadata": {
        "colab": {
          "base_uri": "https://localhost:8080/",
          "height": 446
        },
        "id": "1cuclLDXsx_I",
        "outputId": "94a06ba0-59fd-486d-c1f6-061c4752d47b"
      },
      "execution_count": null,
      "outputs": [
        {
          "output_type": "execute_result",
          "data": {
            "text/plain": [
              "                        variant_id  customer_id  order_id  net_quantity  \\\n",
              "variant_id                1.000000     0.002273  0.003660     -0.000815   \n",
              "customer_id               0.002273     1.000000 -0.010884     -0.012454   \n",
              "order_id                  0.003660    -0.010884  1.000000      0.000703   \n",
              "net_quantity             -0.000815    -0.012454  0.000703      1.000000   \n",
              "gross_sales               0.002965    -0.011607  0.000509      0.849313   \n",
              "discounts                -0.001196     0.004380  0.000469     -0.270406   \n",
              "returns                  -0.002031    -0.009460  0.001145      0.950192   \n",
              "net_sales                 0.000654    -0.011062  0.000939      0.942218   \n",
              "taxes                     0.001243    -0.010793  0.000898      0.931455   \n",
              "total_sales               0.000754    -0.011051  0.000935      0.943278   \n",
              "returned_item_quantity   -0.001137    -0.011670  0.001948      0.985537   \n",
              "ordered_item_quantity    -0.000480    -0.012870 -0.000523      0.986413   \n",
              "\n",
              "                        gross_sales  discounts   returns  net_sales     taxes  \\\n",
              "variant_id                 0.002965  -0.001196 -0.002031   0.000654  0.001243   \n",
              "customer_id               -0.011607   0.004380 -0.009460  -0.011062 -0.010793   \n",
              "order_id                   0.000509   0.000469  0.001145   0.000939  0.000898   \n",
              "net_quantity               0.849313  -0.270406  0.950192   0.942218  0.931455   \n",
              "gross_sales                1.000000  -0.358470  0.785843   0.941708  0.915405   \n",
              "discounts                 -0.358470   1.000000 -0.258355  -0.195524 -0.200613   \n",
              "returns                    0.785843  -0.258355  1.000000   0.929249  0.919248   \n",
              "net_sales                  0.941708  -0.195524  0.929249   1.000000  0.978233   \n",
              "taxes                      0.915405  -0.200613  0.919248   0.978233  1.000000   \n",
              "total_sales                0.940180  -0.196962  0.930397   0.999403  0.984816   \n",
              "returned_item_quantity     0.815116  -0.264847  0.963936   0.928733  0.920032   \n",
              "ordered_item_quantity      0.859018  -0.268331  0.910634   0.929279  0.916813   \n",
              "\n",
              "                        total_sales  returned_item_quantity  \\\n",
              "variant_id                 0.000754               -0.001137   \n",
              "customer_id               -0.011051               -0.011670   \n",
              "order_id                   0.000935                0.001948   \n",
              "net_quantity               0.943278                0.985537   \n",
              "gross_sales                0.940180                0.815116   \n",
              "discounts                 -0.196962               -0.264847   \n",
              "returns                    0.930397                0.963936   \n",
              "net_sales                  0.999403                0.928733   \n",
              "taxes                      0.984816                0.920032   \n",
              "total_sales                1.000000                0.930096   \n",
              "returned_item_quantity     0.930096                1.000000   \n",
              "ordered_item_quantity      0.930016                0.944308   \n",
              "\n",
              "                        ordered_item_quantity  \n",
              "variant_id                          -0.000480  \n",
              "customer_id                         -0.012870  \n",
              "order_id                            -0.000523  \n",
              "net_quantity                         0.986413  \n",
              "gross_sales                          0.859018  \n",
              "discounts                           -0.268331  \n",
              "returns                              0.910634  \n",
              "net_sales                            0.929279  \n",
              "taxes                                0.916813  \n",
              "total_sales                          0.930016  \n",
              "returned_item_quantity               0.944308  \n",
              "ordered_item_quantity                1.000000  "
            ],
            "text/html": [
              "\n",
              "  <div id=\"df-4f88c3e0-9617-421d-a02e-8bbf52c2d8e2\" class=\"colab-df-container\">\n",
              "    <div>\n",
              "<style scoped>\n",
              "    .dataframe tbody tr th:only-of-type {\n",
              "        vertical-align: middle;\n",
              "    }\n",
              "\n",
              "    .dataframe tbody tr th {\n",
              "        vertical-align: top;\n",
              "    }\n",
              "\n",
              "    .dataframe thead th {\n",
              "        text-align: right;\n",
              "    }\n",
              "</style>\n",
              "<table border=\"1\" class=\"dataframe\">\n",
              "  <thead>\n",
              "    <tr style=\"text-align: right;\">\n",
              "      <th></th>\n",
              "      <th>variant_id</th>\n",
              "      <th>customer_id</th>\n",
              "      <th>order_id</th>\n",
              "      <th>net_quantity</th>\n",
              "      <th>gross_sales</th>\n",
              "      <th>discounts</th>\n",
              "      <th>returns</th>\n",
              "      <th>net_sales</th>\n",
              "      <th>taxes</th>\n",
              "      <th>total_sales</th>\n",
              "      <th>returned_item_quantity</th>\n",
              "      <th>ordered_item_quantity</th>\n",
              "    </tr>\n",
              "  </thead>\n",
              "  <tbody>\n",
              "    <tr>\n",
              "      <th>variant_id</th>\n",
              "      <td>1.000000</td>\n",
              "      <td>0.002273</td>\n",
              "      <td>0.003660</td>\n",
              "      <td>-0.000815</td>\n",
              "      <td>0.002965</td>\n",
              "      <td>-0.001196</td>\n",
              "      <td>-0.002031</td>\n",
              "      <td>0.000654</td>\n",
              "      <td>0.001243</td>\n",
              "      <td>0.000754</td>\n",
              "      <td>-0.001137</td>\n",
              "      <td>-0.000480</td>\n",
              "    </tr>\n",
              "    <tr>\n",
              "      <th>customer_id</th>\n",
              "      <td>0.002273</td>\n",
              "      <td>1.000000</td>\n",
              "      <td>-0.010884</td>\n",
              "      <td>-0.012454</td>\n",
              "      <td>-0.011607</td>\n",
              "      <td>0.004380</td>\n",
              "      <td>-0.009460</td>\n",
              "      <td>-0.011062</td>\n",
              "      <td>-0.010793</td>\n",
              "      <td>-0.011051</td>\n",
              "      <td>-0.011670</td>\n",
              "      <td>-0.012870</td>\n",
              "    </tr>\n",
              "    <tr>\n",
              "      <th>order_id</th>\n",
              "      <td>0.003660</td>\n",
              "      <td>-0.010884</td>\n",
              "      <td>1.000000</td>\n",
              "      <td>0.000703</td>\n",
              "      <td>0.000509</td>\n",
              "      <td>0.000469</td>\n",
              "      <td>0.001145</td>\n",
              "      <td>0.000939</td>\n",
              "      <td>0.000898</td>\n",
              "      <td>0.000935</td>\n",
              "      <td>0.001948</td>\n",
              "      <td>-0.000523</td>\n",
              "    </tr>\n",
              "    <tr>\n",
              "      <th>net_quantity</th>\n",
              "      <td>-0.000815</td>\n",
              "      <td>-0.012454</td>\n",
              "      <td>0.000703</td>\n",
              "      <td>1.000000</td>\n",
              "      <td>0.849313</td>\n",
              "      <td>-0.270406</td>\n",
              "      <td>0.950192</td>\n",
              "      <td>0.942218</td>\n",
              "      <td>0.931455</td>\n",
              "      <td>0.943278</td>\n",
              "      <td>0.985537</td>\n",
              "      <td>0.986413</td>\n",
              "    </tr>\n",
              "    <tr>\n",
              "      <th>gross_sales</th>\n",
              "      <td>0.002965</td>\n",
              "      <td>-0.011607</td>\n",
              "      <td>0.000509</td>\n",
              "      <td>0.849313</td>\n",
              "      <td>1.000000</td>\n",
              "      <td>-0.358470</td>\n",
              "      <td>0.785843</td>\n",
              "      <td>0.941708</td>\n",
              "      <td>0.915405</td>\n",
              "      <td>0.940180</td>\n",
              "      <td>0.815116</td>\n",
              "      <td>0.859018</td>\n",
              "    </tr>\n",
              "    <tr>\n",
              "      <th>discounts</th>\n",
              "      <td>-0.001196</td>\n",
              "      <td>0.004380</td>\n",
              "      <td>0.000469</td>\n",
              "      <td>-0.270406</td>\n",
              "      <td>-0.358470</td>\n",
              "      <td>1.000000</td>\n",
              "      <td>-0.258355</td>\n",
              "      <td>-0.195524</td>\n",
              "      <td>-0.200613</td>\n",
              "      <td>-0.196962</td>\n",
              "      <td>-0.264847</td>\n",
              "      <td>-0.268331</td>\n",
              "    </tr>\n",
              "    <tr>\n",
              "      <th>returns</th>\n",
              "      <td>-0.002031</td>\n",
              "      <td>-0.009460</td>\n",
              "      <td>0.001145</td>\n",
              "      <td>0.950192</td>\n",
              "      <td>0.785843</td>\n",
              "      <td>-0.258355</td>\n",
              "      <td>1.000000</td>\n",
              "      <td>0.929249</td>\n",
              "      <td>0.919248</td>\n",
              "      <td>0.930397</td>\n",
              "      <td>0.963936</td>\n",
              "      <td>0.910634</td>\n",
              "    </tr>\n",
              "    <tr>\n",
              "      <th>net_sales</th>\n",
              "      <td>0.000654</td>\n",
              "      <td>-0.011062</td>\n",
              "      <td>0.000939</td>\n",
              "      <td>0.942218</td>\n",
              "      <td>0.941708</td>\n",
              "      <td>-0.195524</td>\n",
              "      <td>0.929249</td>\n",
              "      <td>1.000000</td>\n",
              "      <td>0.978233</td>\n",
              "      <td>0.999403</td>\n",
              "      <td>0.928733</td>\n",
              "      <td>0.929279</td>\n",
              "    </tr>\n",
              "    <tr>\n",
              "      <th>taxes</th>\n",
              "      <td>0.001243</td>\n",
              "      <td>-0.010793</td>\n",
              "      <td>0.000898</td>\n",
              "      <td>0.931455</td>\n",
              "      <td>0.915405</td>\n",
              "      <td>-0.200613</td>\n",
              "      <td>0.919248</td>\n",
              "      <td>0.978233</td>\n",
              "      <td>1.000000</td>\n",
              "      <td>0.984816</td>\n",
              "      <td>0.920032</td>\n",
              "      <td>0.916813</td>\n",
              "    </tr>\n",
              "    <tr>\n",
              "      <th>total_sales</th>\n",
              "      <td>0.000754</td>\n",
              "      <td>-0.011051</td>\n",
              "      <td>0.000935</td>\n",
              "      <td>0.943278</td>\n",
              "      <td>0.940180</td>\n",
              "      <td>-0.196962</td>\n",
              "      <td>0.930397</td>\n",
              "      <td>0.999403</td>\n",
              "      <td>0.984816</td>\n",
              "      <td>1.000000</td>\n",
              "      <td>0.930096</td>\n",
              "      <td>0.930016</td>\n",
              "    </tr>\n",
              "    <tr>\n",
              "      <th>returned_item_quantity</th>\n",
              "      <td>-0.001137</td>\n",
              "      <td>-0.011670</td>\n",
              "      <td>0.001948</td>\n",
              "      <td>0.985537</td>\n",
              "      <td>0.815116</td>\n",
              "      <td>-0.264847</td>\n",
              "      <td>0.963936</td>\n",
              "      <td>0.928733</td>\n",
              "      <td>0.920032</td>\n",
              "      <td>0.930096</td>\n",
              "      <td>1.000000</td>\n",
              "      <td>0.944308</td>\n",
              "    </tr>\n",
              "    <tr>\n",
              "      <th>ordered_item_quantity</th>\n",
              "      <td>-0.000480</td>\n",
              "      <td>-0.012870</td>\n",
              "      <td>-0.000523</td>\n",
              "      <td>0.986413</td>\n",
              "      <td>0.859018</td>\n",
              "      <td>-0.268331</td>\n",
              "      <td>0.910634</td>\n",
              "      <td>0.929279</td>\n",
              "      <td>0.916813</td>\n",
              "      <td>0.930016</td>\n",
              "      <td>0.944308</td>\n",
              "      <td>1.000000</td>\n",
              "    </tr>\n",
              "  </tbody>\n",
              "</table>\n",
              "</div>\n",
              "    <div class=\"colab-df-buttons\">\n",
              "\n",
              "  <div class=\"colab-df-container\">\n",
              "    <button class=\"colab-df-convert\" onclick=\"convertToInteractive('df-4f88c3e0-9617-421d-a02e-8bbf52c2d8e2')\"\n",
              "            title=\"Convert this dataframe to an interactive table.\"\n",
              "            style=\"display:none;\">\n",
              "\n",
              "  <svg xmlns=\"http://www.w3.org/2000/svg\" height=\"24px\" viewBox=\"0 -960 960 960\">\n",
              "    <path d=\"M120-120v-720h720v720H120Zm60-500h600v-160H180v160Zm220 220h160v-160H400v160Zm0 220h160v-160H400v160ZM180-400h160v-160H180v160Zm440 0h160v-160H620v160ZM180-180h160v-160H180v160Zm440 0h160v-160H620v160Z\"/>\n",
              "  </svg>\n",
              "    </button>\n",
              "\n",
              "  <style>\n",
              "    .colab-df-container {\n",
              "      display:flex;\n",
              "      gap: 12px;\n",
              "    }\n",
              "\n",
              "    .colab-df-convert {\n",
              "      background-color: #E8F0FE;\n",
              "      border: none;\n",
              "      border-radius: 50%;\n",
              "      cursor: pointer;\n",
              "      display: none;\n",
              "      fill: #1967D2;\n",
              "      height: 32px;\n",
              "      padding: 0 0 0 0;\n",
              "      width: 32px;\n",
              "    }\n",
              "\n",
              "    .colab-df-convert:hover {\n",
              "      background-color: #E2EBFA;\n",
              "      box-shadow: 0px 1px 2px rgba(60, 64, 67, 0.3), 0px 1px 3px 1px rgba(60, 64, 67, 0.15);\n",
              "      fill: #174EA6;\n",
              "    }\n",
              "\n",
              "    .colab-df-buttons div {\n",
              "      margin-bottom: 4px;\n",
              "    }\n",
              "\n",
              "    [theme=dark] .colab-df-convert {\n",
              "      background-color: #3B4455;\n",
              "      fill: #D2E3FC;\n",
              "    }\n",
              "\n",
              "    [theme=dark] .colab-df-convert:hover {\n",
              "      background-color: #434B5C;\n",
              "      box-shadow: 0px 1px 3px 1px rgba(0, 0, 0, 0.15);\n",
              "      filter: drop-shadow(0px 1px 2px rgba(0, 0, 0, 0.3));\n",
              "      fill: #FFFFFF;\n",
              "    }\n",
              "  </style>\n",
              "\n",
              "    <script>\n",
              "      const buttonEl =\n",
              "        document.querySelector('#df-4f88c3e0-9617-421d-a02e-8bbf52c2d8e2 button.colab-df-convert');\n",
              "      buttonEl.style.display =\n",
              "        google.colab.kernel.accessAllowed ? 'block' : 'none';\n",
              "\n",
              "      async function convertToInteractive(key) {\n",
              "        const element = document.querySelector('#df-4f88c3e0-9617-421d-a02e-8bbf52c2d8e2');\n",
              "        const dataTable =\n",
              "          await google.colab.kernel.invokeFunction('convertToInteractive',\n",
              "                                                    [key], {});\n",
              "        if (!dataTable) return;\n",
              "\n",
              "        const docLinkHtml = 'Like what you see? Visit the ' +\n",
              "          '<a target=\"_blank\" href=https://colab.research.google.com/notebooks/data_table.ipynb>data table notebook</a>'\n",
              "          + ' to learn more about interactive tables.';\n",
              "        element.innerHTML = '';\n",
              "        dataTable['output_type'] = 'display_data';\n",
              "        await google.colab.output.renderOutput(dataTable, element);\n",
              "        const docLink = document.createElement('div');\n",
              "        docLink.innerHTML = docLinkHtml;\n",
              "        element.appendChild(docLink);\n",
              "      }\n",
              "    </script>\n",
              "  </div>\n",
              "\n",
              "\n",
              "<div id=\"df-1d8d64d7-24e8-406a-8b12-f2a5eec20c63\">\n",
              "  <button class=\"colab-df-quickchart\" onclick=\"quickchart('df-1d8d64d7-24e8-406a-8b12-f2a5eec20c63')\"\n",
              "            title=\"Suggest charts\"\n",
              "            style=\"display:none;\">\n",
              "\n",
              "<svg xmlns=\"http://www.w3.org/2000/svg\" height=\"24px\"viewBox=\"0 0 24 24\"\n",
              "     width=\"24px\">\n",
              "    <g>\n",
              "        <path d=\"M19 3H5c-1.1 0-2 .9-2 2v14c0 1.1.9 2 2 2h14c1.1 0 2-.9 2-2V5c0-1.1-.9-2-2-2zM9 17H7v-7h2v7zm4 0h-2V7h2v10zm4 0h-2v-4h2v4z\"/>\n",
              "    </g>\n",
              "</svg>\n",
              "  </button>\n",
              "\n",
              "<style>\n",
              "  .colab-df-quickchart {\n",
              "      --bg-color: #E8F0FE;\n",
              "      --fill-color: #1967D2;\n",
              "      --hover-bg-color: #E2EBFA;\n",
              "      --hover-fill-color: #174EA6;\n",
              "      --disabled-fill-color: #AAA;\n",
              "      --disabled-bg-color: #DDD;\n",
              "  }\n",
              "\n",
              "  [theme=dark] .colab-df-quickchart {\n",
              "      --bg-color: #3B4455;\n",
              "      --fill-color: #D2E3FC;\n",
              "      --hover-bg-color: #434B5C;\n",
              "      --hover-fill-color: #FFFFFF;\n",
              "      --disabled-bg-color: #3B4455;\n",
              "      --disabled-fill-color: #666;\n",
              "  }\n",
              "\n",
              "  .colab-df-quickchart {\n",
              "    background-color: var(--bg-color);\n",
              "    border: none;\n",
              "    border-radius: 50%;\n",
              "    cursor: pointer;\n",
              "    display: none;\n",
              "    fill: var(--fill-color);\n",
              "    height: 32px;\n",
              "    padding: 0;\n",
              "    width: 32px;\n",
              "  }\n",
              "\n",
              "  .colab-df-quickchart:hover {\n",
              "    background-color: var(--hover-bg-color);\n",
              "    box-shadow: 0 1px 2px rgba(60, 64, 67, 0.3), 0 1px 3px 1px rgba(60, 64, 67, 0.15);\n",
              "    fill: var(--button-hover-fill-color);\n",
              "  }\n",
              "\n",
              "  .colab-df-quickchart-complete:disabled,\n",
              "  .colab-df-quickchart-complete:disabled:hover {\n",
              "    background-color: var(--disabled-bg-color);\n",
              "    fill: var(--disabled-fill-color);\n",
              "    box-shadow: none;\n",
              "  }\n",
              "\n",
              "  .colab-df-spinner {\n",
              "    border: 2px solid var(--fill-color);\n",
              "    border-color: transparent;\n",
              "    border-bottom-color: var(--fill-color);\n",
              "    animation:\n",
              "      spin 1s steps(1) infinite;\n",
              "  }\n",
              "\n",
              "  @keyframes spin {\n",
              "    0% {\n",
              "      border-color: transparent;\n",
              "      border-bottom-color: var(--fill-color);\n",
              "      border-left-color: var(--fill-color);\n",
              "    }\n",
              "    20% {\n",
              "      border-color: transparent;\n",
              "      border-left-color: var(--fill-color);\n",
              "      border-top-color: var(--fill-color);\n",
              "    }\n",
              "    30% {\n",
              "      border-color: transparent;\n",
              "      border-left-color: var(--fill-color);\n",
              "      border-top-color: var(--fill-color);\n",
              "      border-right-color: var(--fill-color);\n",
              "    }\n",
              "    40% {\n",
              "      border-color: transparent;\n",
              "      border-right-color: var(--fill-color);\n",
              "      border-top-color: var(--fill-color);\n",
              "    }\n",
              "    60% {\n",
              "      border-color: transparent;\n",
              "      border-right-color: var(--fill-color);\n",
              "    }\n",
              "    80% {\n",
              "      border-color: transparent;\n",
              "      border-right-color: var(--fill-color);\n",
              "      border-bottom-color: var(--fill-color);\n",
              "    }\n",
              "    90% {\n",
              "      border-color: transparent;\n",
              "      border-bottom-color: var(--fill-color);\n",
              "    }\n",
              "  }\n",
              "</style>\n",
              "\n",
              "  <script>\n",
              "    async function quickchart(key) {\n",
              "      const quickchartButtonEl =\n",
              "        document.querySelector('#' + key + ' button');\n",
              "      quickchartButtonEl.disabled = true;  // To prevent multiple clicks.\n",
              "      quickchartButtonEl.classList.add('colab-df-spinner');\n",
              "      try {\n",
              "        const charts = await google.colab.kernel.invokeFunction(\n",
              "            'suggestCharts', [key], {});\n",
              "      } catch (error) {\n",
              "        console.error('Error during call to suggestCharts:', error);\n",
              "      }\n",
              "      quickchartButtonEl.classList.remove('colab-df-spinner');\n",
              "      quickchartButtonEl.classList.add('colab-df-quickchart-complete');\n",
              "    }\n",
              "    (() => {\n",
              "      let quickchartButtonEl =\n",
              "        document.querySelector('#df-1d8d64d7-24e8-406a-8b12-f2a5eec20c63 button');\n",
              "      quickchartButtonEl.style.display =\n",
              "        google.colab.kernel.accessAllowed ? 'block' : 'none';\n",
              "    })();\n",
              "  </script>\n",
              "</div>\n",
              "\n",
              "    </div>\n",
              "  </div>\n"
            ],
            "application/vnd.google.colaboratory.intrinsic+json": {
              "type": "dataframe",
              "summary": "{\n  \"name\": \"num_df\",\n  \"rows\": 12,\n  \"fields\": [\n    {\n      \"column\": \"variant_id\",\n      \"properties\": {\n        \"dtype\": \"number\",\n        \"std\": 0.28852593927898124,\n        \"min\": -0.0020307000252939075,\n        \"max\": 1.0,\n        \"num_unique_values\": 12,\n        \"samples\": [\n          -0.001137083032385027,\n          0.0007544048298084866,\n          1.0\n        ],\n        \"semantic_type\": \"\",\n        \"description\": \"\"\n      }\n    },\n    {\n      \"column\": \"customer_id\",\n      \"properties\": {\n        \"dtype\": \"number\",\n        \"std\": 0.2912298276023441,\n        \"min\": -0.012870254580452451,\n        \"max\": 1.0,\n        \"num_unique_values\": 12,\n        \"samples\": [\n          -0.011670268681355664,\n          -0.011050815824980359,\n          0.002272865624941066\n        ],\n        \"semantic_type\": \"\",\n        \"description\": \"\"\n      }\n    },\n    {\n      \"column\": \"order_id\",\n      \"properties\": {\n        \"dtype\": \"number\",\n        \"std\": 0.2887025891818828,\n        \"min\": -0.010884469633745937,\n        \"max\": 1.0,\n        \"num_unique_values\": 12,\n        \"samples\": [\n          0.0019478726621330194,\n          0.0009348058870415661,\n          0.00366029555701803\n        ],\n        \"semantic_type\": \"\",\n        \"description\": \"\"\n      }\n    },\n    {\n      \"column\": \"net_quantity\",\n      \"properties\": {\n        \"dtype\": \"number\",\n        \"std\": 0.5080691427904485,\n        \"min\": -0.2704063731955926,\n        \"max\": 1.0,\n        \"num_unique_values\": 12,\n        \"samples\": [\n          0.9855374792617594,\n          0.9432781636842602,\n          -0.0008146296395184745\n        ],\n        \"semantic_type\": \"\",\n        \"description\": \"\"\n      }\n    },\n    {\n      \"column\": \"gross_sales\",\n      \"properties\": {\n        \"dtype\": \"number\",\n        \"std\": 0.4947874863712741,\n        \"min\": -0.35846992211696876,\n        \"max\": 1.0,\n        \"num_unique_values\": 12,\n        \"samples\": [\n          0.8151159895939263,\n          0.9401803041978254,\n          0.0029645172815791227\n        ],\n        \"semantic_type\": \"\",\n        \"description\": \"\"\n      }\n    },\n    {\n      \"column\": \"discounts\",\n      \"properties\": {\n        \"dtype\": \"number\",\n        \"std\": 0.36216761713139556,\n        \"min\": -0.35846992211696876,\n        \"max\": 1.0,\n        \"num_unique_values\": 12,\n        \"samples\": [\n          -0.26484718258078904,\n          -0.19696242776852144,\n          -0.0011956555696401084\n        ],\n        \"semantic_type\": \"\",\n        \"description\": \"\"\n      }\n    },\n    {\n      \"column\": \"returns\",\n      \"properties\": {\n        \"dtype\": \"number\",\n        \"std\": 0.4949161354177345,\n        \"min\": -0.2583549717129651,\n        \"max\": 1.0,\n        \"num_unique_values\": 12,\n        \"samples\": [\n          0.9639361235793932,\n          0.9303966572917977,\n          -0.0020307000252939075\n        ],\n        \"semantic_type\": \"\",\n        \"description\": \"\"\n      }\n    },\n    {\n      \"column\": \"net_sales\",\n      \"properties\": {\n        \"dtype\": \"number\",\n        \"std\": 0.49915810252100706,\n        \"min\": -0.19552379195192365,\n        \"max\": 1.0,\n        \"num_unique_values\": 12,\n        \"samples\": [\n          0.9287334679993382,\n          0.9994034967077922,\n          0.0006544452814386349\n        ],\n        \"semantic_type\": \"\",\n        \"description\": \"\"\n      }\n    },\n    {\n      \"column\": \"taxes\",\n      \"properties\": {\n        \"dtype\": \"number\",\n        \"std\": 0.49494098105390694,\n        \"min\": -0.20061294666047816,\n        \"max\": 1.0,\n        \"num_unique_values\": 12,\n        \"samples\": [\n          0.920032406029084,\n          0.9848161589115481,\n          0.0012431593899836853\n        ],\n        \"semantic_type\": \"\",\n        \"description\": \"\"\n      }\n    },\n    {\n      \"column\": \"total_sales\",\n      \"properties\": {\n        \"dtype\": \"number\",\n        \"std\": 0.499947770266144,\n        \"min\": -0.19696242776852144,\n        \"max\": 1.0,\n        \"num_unique_values\": 12,\n        \"samples\": [\n          0.9300957834930252,\n          1.0,\n          0.0007544048298084866\n        ],\n        \"semantic_type\": \"\",\n        \"description\": \"\"\n      }\n    },\n    {\n      \"column\": \"returned_item_quantity\",\n      \"properties\": {\n        \"dtype\": \"number\",\n        \"std\": 0.5014961814911955,\n        \"min\": -0.26484718258078904,\n        \"max\": 1.0,\n        \"num_unique_values\": 12,\n        \"samples\": [\n          1.0,\n          0.9300957834930252,\n          -0.001137083032385027\n        ],\n        \"semantic_type\": \"\",\n        \"description\": \"\"\n      }\n    },\n    {\n      \"column\": \"ordered_item_quantity\",\n      \"properties\": {\n        \"dtype\": \"number\",\n        \"std\": 0.5009048134427201,\n        \"min\": -0.2683305352631667,\n        \"max\": 1.0,\n        \"num_unique_values\": 12,\n        \"samples\": [\n          0.944308322698448,\n          0.9300163654229344,\n          -0.0004795333805013167\n        ],\n        \"semantic_type\": \"\",\n        \"description\": \"\"\n      }\n    }\n  ]\n}"
            }
          },
          "metadata": {},
          "execution_count": 10
        }
      ]
    },
    {
      "cell_type": "code",
      "source": [
        "num_df.var()"
      ],
      "metadata": {
        "colab": {
          "base_uri": "https://localhost:8080/"
        },
        "id": "YM8u_yvGe5fT",
        "outputId": "eb30a7ce-b4fb-472f-881c-01c4a81127f2"
      },
      "execution_count": null,
      "outputs": [
        {
          "output_type": "execute_result",
          "data": {
            "text/plain": [
              "variant_id                1.810594e+25\n",
              "customer_id               3.872878e+25\n",
              "order_id                  6.695865e+26\n",
              "net_quantity              5.468621e-01\n",
              "gross_sales               1.011294e+03\n",
              "discounts                 6.036972e+01\n",
              "returns                   6.327653e+02\n",
              "net_sales                 2.683555e+03\n",
              "taxes                     1.061993e+02\n",
              "total_sales               3.834207e+03\n",
              "returned_item_quantity    1.363032e-01\n",
              "ordered_item_quantity     1.450255e-01\n",
              "dtype: float64"
            ]
          },
          "metadata": {},
          "execution_count": 11
        }
      ]
    },
    {
      "cell_type": "code",
      "source": [
        "condition = (df['net_quantity'] < 0)\n"
      ],
      "metadata": {
        "id": "P-GQ7O9ZQYNN"
      },
      "execution_count": null,
      "outputs": []
    },
    {
      "cell_type": "code",
      "source": [
        "clean_df=df[~condition]"
      ],
      "metadata": {
        "id": "_9z-sdxIsyBd"
      },
      "execution_count": null,
      "outputs": []
    },
    {
      "cell_type": "code",
      "source": [
        "clean_df.info()"
      ],
      "metadata": {
        "id": "48HCPFPksyDd",
        "colab": {
          "base_uri": "https://localhost:8080/"
        },
        "outputId": "4d56cc4b-0062-4ae3-cec7-8d0a4563b0ec"
      },
      "execution_count": null,
      "outputs": [
        {
          "output_type": "stream",
          "name": "stdout",
          "text": [
            "<class 'pandas.core.frame.DataFrame'>\n",
            "Index: 59336 entries, 0 to 59341\n",
            "Data columns (total 17 columns):\n",
            " #   Column                  Non-Null Count  Dtype  \n",
            "---  ------                  --------------  -----  \n",
            " 0   product_title           59336 non-null  object \n",
            " 1   product_type            59336 non-null  object \n",
            " 2   variant_title           59336 non-null  object \n",
            " 3   variant_sku             59336 non-null  object \n",
            " 4   variant_id              59336 non-null  float64\n",
            " 5   customer_id             59336 non-null  float64\n",
            " 6   order_id                59336 non-null  float64\n",
            " 7   day                     59336 non-null  object \n",
            " 8   net_quantity            59336 non-null  int64  \n",
            " 9   gross_sales             59336 non-null  float64\n",
            " 10  discounts               59336 non-null  float64\n",
            " 11  returns                 59336 non-null  float64\n",
            " 12  net_sales               59336 non-null  float64\n",
            " 13  taxes                   59336 non-null  float64\n",
            " 14  total_sales             59336 non-null  float64\n",
            " 15  returned_item_quantity  59336 non-null  int64  \n",
            " 16  ordered_item_quantity   59336 non-null  int64  \n",
            "dtypes: float64(9), int64(3), object(5)\n",
            "memory usage: 8.1+ MB\n"
          ]
        }
      ]
    },
    {
      "cell_type": "code",
      "source": [
        "clean_imp=clean_df.iloc[:,[8,10,12]]"
      ],
      "metadata": {
        "id": "7_9NfzX2Wj6N"
      },
      "execution_count": null,
      "outputs": []
    },
    {
      "cell_type": "code",
      "source": [
        "clean_imp.info()"
      ],
      "metadata": {
        "colab": {
          "base_uri": "https://localhost:8080/"
        },
        "id": "cHSccQY7IBaW",
        "outputId": "5411da71-cf36-4285-fcbb-df3e1f611d15"
      },
      "execution_count": null,
      "outputs": [
        {
          "output_type": "stream",
          "name": "stdout",
          "text": [
            "<class 'pandas.core.frame.DataFrame'>\n",
            "Index: 59336 entries, 0 to 59341\n",
            "Data columns (total 3 columns):\n",
            " #   Column        Non-Null Count  Dtype  \n",
            "---  ------        --------------  -----  \n",
            " 0   net_quantity  59336 non-null  int64  \n",
            " 1   discounts     59336 non-null  float64\n",
            " 2   net_sales     59336 non-null  float64\n",
            "dtypes: float64(2), int64(1)\n",
            "memory usage: 1.8 MB\n"
          ]
        }
      ]
    },
    {
      "cell_type": "code",
      "source": [
        "clean_imp.boxplot()"
      ],
      "metadata": {
        "colab": {
          "base_uri": "https://localhost:8080/",
          "height": 447
        },
        "id": "q2s87Wd4YulF",
        "outputId": "6f07a99e-249f-4961-eeb4-b4dc675e88c3"
      },
      "execution_count": null,
      "outputs": [
        {
          "output_type": "execute_result",
          "data": {
            "text/plain": [
              "<Axes: >"
            ]
          },
          "metadata": {},
          "execution_count": 17
        },
        {
          "output_type": "display_data",
          "data": {
            "text/plain": [
              "<Figure size 640x480 with 1 Axes>"
            ],
            "image/png": "[encoded data removed]"
          },
          "metadata": {}
        }
      ]
    },
    {
      "cell_type": "code",
      "source": [
        "pip install feature_engine\n"
      ],
      "metadata": {
        "colab": {
          "base_uri": "https://localhost:8080/"
        },
        "id": "vHfo5aT6z6io",
        "outputId": "921f4ca1-fb5a-48a2-836d-9d5e61688595"
      },
      "execution_count": null,
      "outputs": [
        {
          "output_type": "stream",
          "name": "stdout",
          "text": [
            "Requirement already satisfied: feature_engine in /usr/local/lib/python3.10/dist-packages (1.7.0)\n",
            "Requirement already satisfied: numpy>=1.18.2 in /usr/local/lib/python3.10/dist-packages (from feature_engine) (1.25.2)\n",
            "Requirement already satisfied: pandas>=2.2.0 in /usr/local/lib/python3.10/dist-packages (from feature_engine) (2.2.1)\n",
            "Requirement already satisfied: scikit-learn>=1.4.0 in /usr/local/lib/python3.10/dist-packages (from feature_engine) (1.4.1.post1)\n",
            "Requirement already satisfied: scipy>=1.4.1 in /usr/local/lib/python3.10/dist-packages (from feature_engine) (1.11.4)\n",
            "Requirement already satisfied: statsmodels>=0.11.1 in /usr/local/lib/python3.10/dist-packages (from feature_engine) (0.14.1)\n",
            "Requirement already satisfied: python-dateutil>=2.8.2 in /usr/local/lib/python3.10/dist-packages (from pandas>=2.2.0->feature_engine) (2.8.2)\n",
            "Requirement already satisfied: pytz>=2020.1 in /usr/local/lib/python3.10/dist-packages (from pandas>=2.2.0->feature_engine) (2023.4)\n",
            "Requirement already satisfied: tzdata>=2022.7 in /usr/local/lib/python3.10/dist-packages (from pandas>=2.2.0->feature_engine) (2024.1)\n",
            "Requirement already satisfied: joblib>=1.2.0 in /usr/local/lib/python3.10/dist-packages (from scikit-learn>=1.4.0->feature_engine) (1.3.2)\n",
            "Requirement already satisfied: threadpoolctl>=2.0.0 in /usr/local/lib/python3.10/dist-packages (from scikit-learn>=1.4.0->feature_engine) (3.4.0)\n",
            "Requirement already satisfied: patsy>=0.5.4 in /usr/local/lib/python3.10/dist-packages (from statsmodels>=0.11.1->feature_engine) (0.5.6)\n",
            "Requirement already satisfied: packaging>=21.3 in /usr/local/lib/python3.10/dist-packages (from statsmodels>=0.11.1->feature_engine) (24.0)\n",
            "Requirement already satisfied: six in /usr/local/lib/python3.10/dist-packages (from patsy>=0.5.4->statsmodels>=0.11.1->feature_engine) (1.16.0)\n"
          ]
        }
      ]
    },
    {
      "cell_type": "code",
      "source": [
        "import pandas as pd\n",
        "from feature_engine.outliers import Winsorizer\n",
        "winsorizer = Winsorizer(capping_method='iqr', tail='left', fold=1.5, variables=['discounts'])\n",
        "clean_imp = winsorizer.fit_transform(clean_imp)\n"
      ],
      "metadata": {
        "id": "hxWSbuMD632E"
      },
      "execution_count": null,
      "outputs": []
    },
    {
      "cell_type": "code",
      "source": [
        "import pandas as pd\n",
        "from feature_engine.outliers import Winsorizer\n",
        "winsorizer = Winsorizer(capping_method='gaussian', tail='both', fold=1.5, variables=['net_quantity'])\n",
        "clean_imp = winsorizer.fit_transform(clean_imp)\n"
      ],
      "metadata": {
        "id": "scoEAxSZCFE0"
      },
      "execution_count": null,
      "outputs": []
    },
    {
      "cell_type": "code",
      "source": [
        "import pandas as pd\n",
        "from feature_engine.outliers import Winsorizer\n",
        "winsorizer = Winsorizer(capping_method='iqr', tail='both', fold=1.5, variables=['net_sales'])\n",
        "clean_imp = winsorizer.fit_transform(clean_imp)\n"
      ],
      "metadata": {
        "id": "wf5PC3QxCFfr"
      },
      "execution_count": null,
      "outputs": []
    },
    {
      "cell_type": "code",
      "source": [
        "clean_imp.boxplot()"
      ],
      "metadata": {
        "colab": {
          "base_uri": "https://localhost:8080/",
          "height": 447
        },
        "id": "qlQCHCGbDtdD",
        "outputId": "d33ed203-3902-42ac-beff-41425b4a6541"
      },
      "execution_count": null,
      "outputs": [
        {
          "output_type": "execute_result",
          "data": {
            "text/plain": [
              "<Axes: >"
            ]
          },
          "metadata": {},
          "execution_count": 22
        },
        {
          "output_type": "display_data",
          "data": {
            "text/plain": [
              "<Figure size 640x480 with 1 Axes>"
            ],
            "image/png": "[encoded data removed]"
          },
          "metadata": {}
        }
      ]
    },
    {
      "cell_type": "code",
      "source": [
        "cols= list(clean_imp.columns)"
      ],
      "metadata": {
        "id": "qXLZz6o1iGKm"
      },
      "execution_count": null,
      "outputs": []
    },
    {
      "cell_type": "code",
      "source": [
        "from sklearn.preprocessing import MinMaxScaler\n",
        "\n",
        "scaler = MinMaxScaler()\n",
        "\n",
        "scaler.fit(clean_imp)\n",
        "\n",
        "scaled_data = scaler.transform(clean_imp)\n"
      ],
      "metadata": {
        "id": "4PDX61eqhu1T"
      },
      "execution_count": null,
      "outputs": []
    },
    {
      "cell_type": "code",
      "source": [
        "scaled_data"
      ],
      "metadata": {
        "colab": {
          "base_uri": "https://localhost:8080/"
        },
        "id": "hdsi0PQah_0E",
        "outputId": "15d007cb-f131-43e9-8eb4-b5be4b7238cc"
      },
      "execution_count": null,
      "outputs": [
        {
          "output_type": "execute_result",
          "data": {
            "text/plain": [
              "array([[1., 0., 0.],\n",
              "       [1., 0., 0.],\n",
              "       [0., 0., 0.],\n",
              "       ...,\n",
              "       [0., 1., 0.],\n",
              "       [0., 1., 0.],\n",
              "       [0., 1., 0.]])"
            ]
          },
          "metadata": {},
          "execution_count": 25
        }
      ]
    },
    {
      "cell_type": "code",
      "source": [
        "df_pipelined = pd.DataFrame(scaled_data, columns = cols, index = clean_imp.index)"
      ],
      "metadata": {
        "id": "8X7gMD1ilTOL"
      },
      "execution_count": null,
      "outputs": []
    },
    {
      "cell_type": "code",
      "source": [
        "df_pipelined.head(10)"
      ],
      "metadata": {
        "colab": {
          "base_uri": "https://localhost:8080/",
          "height": 363
        },
        "id": "vLazv4FHluXS",
        "outputId": "b77e8839-c1f2-49d8-ce60-a452aabb6d28"
      },
      "execution_count": null,
      "outputs": [
        {
          "output_type": "execute_result",
          "data": {
            "text/plain": [
              "   net_quantity  discounts  net_sales\n",
              "0      1.000000        0.0        0.0\n",
              "1      1.000000        0.0        0.0\n",
              "2      0.000000        0.0        0.0\n",
              "3      0.470967        0.0        0.0\n",
              "4      0.470967        0.0        0.0\n",
              "5      0.470967        0.0        0.0\n",
              "6      0.470967        0.0        0.0\n",
              "7      0.470967        0.0        0.0\n",
              "8      0.470967        0.0        0.0\n",
              "9      0.470967        0.0        0.0"
            ],
            "text/html": [
              "\n",
              "  <div id=\"df-f14fc881-d30b-4b92-aafb-e11d97631330\" class=\"colab-df-container\">\n",
              "    <div>\n",
              "<style scoped>\n",
              "    .dataframe tbody tr th:only-of-type {\n",
              "        vertical-align: middle;\n",
              "    }\n",
              "\n",
              "    .dataframe tbody tr th {\n",
              "        vertical-align: top;\n",
              "    }\n",
              "\n",
              "    .dataframe thead th {\n",
              "        text-align: right;\n",
              "    }\n",
              "</style>\n",
              "<table border=\"1\" class=\"dataframe\">\n",
              "  <thead>\n",
              "    <tr style=\"text-align: right;\">\n",
              "      <th></th>\n",
              "      <th>net_quantity</th>\n",
              "      <th>discounts</th>\n",
              "      <th>net_sales</th>\n",
              "    </tr>\n",
              "  </thead>\n",
              "  <tbody>\n",
              "    <tr>\n",
              "      <th>0</th>\n",
              "      <td>1.000000</td>\n",
              "      <td>0.0</td>\n",
              "      <td>0.0</td>\n",
              "    </tr>\n",
              "    <tr>\n",
              "      <th>1</th>\n",
              "      <td>1.000000</td>\n",
              "      <td>0.0</td>\n",
              "      <td>0.0</td>\n",
              "    </tr>\n",
              "    <tr>\n",
              "      <th>2</th>\n",
              "      <td>0.000000</td>\n",
              "      <td>0.0</td>\n",
              "      <td>0.0</td>\n",
              "    </tr>\n",
              "    <tr>\n",
              "      <th>3</th>\n",
              "      <td>0.470967</td>\n",
              "      <td>0.0</td>\n",
              "      <td>0.0</td>\n",
              "    </tr>\n",
              "    <tr>\n",
              "      <th>4</th>\n",
              "      <td>0.470967</td>\n",
              "      <td>0.0</td>\n",
              "      <td>0.0</td>\n",
              "    </tr>\n",
              "    <tr>\n",
              "      <th>5</th>\n",
              "      <td>0.470967</td>\n",
              "      <td>0.0</td>\n",
              "      <td>0.0</td>\n",
              "    </tr>\n",
              "    <tr>\n",
              "      <th>6</th>\n",
              "      <td>0.470967</td>\n",
              "      <td>0.0</td>\n",
              "      <td>0.0</td>\n",
              "    </tr>\n",
              "    <tr>\n",
              "      <th>7</th>\n",
              "      <td>0.470967</td>\n",
              "      <td>0.0</td>\n",
              "      <td>0.0</td>\n",
              "    </tr>\n",
              "    <tr>\n",
              "      <th>8</th>\n",
              "      <td>0.470967</td>\n",
              "      <td>0.0</td>\n",
              "      <td>0.0</td>\n",
              "    </tr>\n",
              "    <tr>\n",
              "      <th>9</th>\n",
              "      <td>0.470967</td>\n",
              "      <td>0.0</td>\n",
              "      <td>0.0</td>\n",
              "    </tr>\n",
              "  </tbody>\n",
              "</table>\n",
              "</div>\n",
              "    <div class=\"colab-df-buttons\">\n",
              "\n",
              "  <div class=\"colab-df-container\">\n",
              "    <button class=\"colab-df-convert\" onclick=\"convertToInteractive('df-f14fc881-d30b-4b92-aafb-e11d97631330')\"\n",
              "            title=\"Convert this dataframe to an interactive table.\"\n",
              "            style=\"display:none;\">\n",
              "\n",
              "  <svg xmlns=\"http://www.w3.org/2000/svg\" height=\"24px\" viewBox=\"0 -960 960 960\">\n",
              "    <path d=\"M120-120v-720h720v720H120Zm60-500h600v-160H180v160Zm220 220h160v-160H400v160Zm0 220h160v-160H400v160ZM180-400h160v-160H180v160Zm440 0h160v-160H620v160ZM180-180h160v-160H180v160Zm440 0h160v-160H620v160Z\"/>\n",
              "  </svg>\n",
              "    </button>\n",
              "\n",
              "  <style>\n",
              "    .colab-df-container {\n",
              "      display:flex;\n",
              "      gap: 12px;\n",
              "    }\n",
              "\n",
              "    .colab-df-convert {\n",
              "      background-color: #E8F0FE;\n",
              "      border: none;\n",
              "      border-radius: 50%;\n",
              "      cursor: pointer;\n",
              "      display: none;\n",
              "      fill: #1967D2;\n",
              "      height: 32px;\n",
              "      padding: 0 0 0 0;\n",
              "      width: 32px;\n",
              "    }\n",
              "\n",
              "    .colab-df-convert:hover {\n",
              "      background-color: #E2EBFA;\n",
              "      box-shadow: 0px 1px 2px rgba(60, 64, 67, 0.3), 0px 1px 3px 1px rgba(60, 64, 67, 0.15);\n",
              "      fill: #174EA6;\n",
              "    }\n",
              "\n",
              "    .colab-df-buttons div {\n",
              "      margin-bottom: 4px;\n",
              "    }\n",
              "\n",
              "    [theme=dark] .colab-df-convert {\n",
              "      background-color: #3B4455;\n",
              "      fill: #D2E3FC;\n",
              "    }\n",
              "\n",
              "    [theme=dark] .colab-df-convert:hover {\n",
              "      background-color: #434B5C;\n",
              "      box-shadow: 0px 1px 3px 1px rgba(0, 0, 0, 0.15);\n",
              "      filter: drop-shadow(0px 1px 2px rgba(0, 0, 0, 0.3));\n",
              "      fill: #FFFFFF;\n",
              "    }\n",
              "  </style>\n",
              "\n",
              "    <script>\n",
              "      const buttonEl =\n",
              "        document.querySelector('#df-f14fc881-d30b-4b92-aafb-e11d97631330 button.colab-df-convert');\n",
              "      buttonEl.style.display =\n",
              "        google.colab.kernel.accessAllowed ? 'block' : 'none';\n",
              "\n",
              "      async function convertToInteractive(key) {\n",
              "        const element = document.querySelector('#df-f14fc881-d30b-4b92-aafb-e11d97631330');\n",
              "        const dataTable =\n",
              "          await google.colab.kernel.invokeFunction('convertToInteractive',\n",
              "                                                    [key], {});\n",
              "        if (!dataTable) return;\n",
              "\n",
              "        const docLinkHtml = 'Like what you see? Visit the ' +\n",
              "          '<a target=\"_blank\" href=https://colab.research.google.com/notebooks/data_table.ipynb>data table notebook</a>'\n",
              "          + ' to learn more about interactive tables.';\n",
              "        element.innerHTML = '';\n",
              "        dataTable['output_type'] = 'display_data';\n",
              "        await google.colab.output.renderOutput(dataTable, element);\n",
              "        const docLink = document.createElement('div');\n",
              "        docLink.innerHTML = docLinkHtml;\n",
              "        element.appendChild(docLink);\n",
              "      }\n",
              "    </script>\n",
              "  </div>\n",
              "\n",
              "\n",
              "<div id=\"df-bb54e5be-a2ec-4fa8-bf62-620ae20af73d\">\n",
              "  <button class=\"colab-df-quickchart\" onclick=\"quickchart('df-bb54e5be-a2ec-4fa8-bf62-620ae20af73d')\"\n",
              "            title=\"Suggest charts\"\n",
              "            style=\"display:none;\">\n",
              "\n",
              "<svg xmlns=\"http://www.w3.org/2000/svg\" height=\"24px\"viewBox=\"0 0 24 24\"\n",
              "     width=\"24px\">\n",
              "    <g>\n",
              "        <path d=\"M19 3H5c-1.1 0-2 .9-2 2v14c0 1.1.9 2 2 2h14c1.1 0 2-.9 2-2V5c0-1.1-.9-2-2-2zM9 17H7v-7h2v7zm4 0h-2V7h2v10zm4 0h-2v-4h2v4z\"/>\n",
              "    </g>\n",
              "</svg>\n",
              "  </button>\n",
              "\n",
              "<style>\n",
              "  .colab-df-quickchart {\n",
              "      --bg-color: #E8F0FE;\n",
              "      --fill-color: #1967D2;\n",
              "      --hover-bg-color: #E2EBFA;\n",
              "      --hover-fill-color: #174EA6;\n",
              "      --disabled-fill-color: #AAA;\n",
              "      --disabled-bg-color: #DDD;\n",
              "  }\n",
              "\n",
              "  [theme=dark] .colab-df-quickchart {\n",
              "      --bg-color: #3B4455;\n",
              "      --fill-color: #D2E3FC;\n",
              "      --hover-bg-color: #434B5C;\n",
              "      --hover-fill-color: #FFFFFF;\n",
              "      --disabled-bg-color: #3B4455;\n",
              "      --disabled-fill-color: #666;\n",
              "  }\n",
              "\n",
              "  .colab-df-quickchart {\n",
              "    background-color: var(--bg-color);\n",
              "    border: none;\n",
              "    border-radius: 50%;\n",
              "    cursor: pointer;\n",
              "    display: none;\n",
              "    fill: var(--fill-color);\n",
              "    height: 32px;\n",
              "    padding: 0;\n",
              "    width: 32px;\n",
              "  }\n",
              "\n",
              "  .colab-df-quickchart:hover {\n",
              "    background-color: var(--hover-bg-color);\n",
              "    box-shadow: 0 1px 2px rgba(60, 64, 67, 0.3), 0 1px 3px 1px rgba(60, 64, 67, 0.15);\n",
              "    fill: var(--button-hover-fill-color);\n",
              "  }\n",
              "\n",
              "  .colab-df-quickchart-complete:disabled,\n",
              "  .colab-df-quickchart-complete:disabled:hover {\n",
              "    background-color: var(--disabled-bg-color);\n",
              "    fill: var(--disabled-fill-color);\n",
              "    box-shadow: none;\n",
              "  }\n",
              "\n",
              "  .colab-df-spinner {\n",
              "    border: 2px solid var(--fill-color);\n",
              "    border-color: transparent;\n",
              "    border-bottom-color: var(--fill-color);\n",
              "    animation:\n",
              "      spin 1s steps(1) infinite;\n",
              "  }\n",
              "\n",
              "  @keyframes spin {\n",
              "    0% {\n",
              "      border-color: transparent;\n",
              "      border-bottom-color: var(--fill-color);\n",
              "      border-left-color: var(--fill-color);\n",
              "    }\n",
              "    20% {\n",
              "      border-color: transparent;\n",
              "      border-left-color: var(--fill-color);\n",
              "      border-top-color: var(--fill-color);\n",
              "    }\n",
              "    30% {\n",
              "      border-color: transparent;\n",
              "      border-left-color: var(--fill-color);\n",
              "      border-top-color: var(--fill-color);\n",
              "      border-right-color: var(--fill-color);\n",
              "    }\n",
              "    40% {\n",
              "      border-color: transparent;\n",
              "      border-right-color: var(--fill-color);\n",
              "      border-top-color: var(--fill-color);\n",
              "    }\n",
              "    60% {\n",
              "      border-color: transparent;\n",
              "      border-right-color: var(--fill-color);\n",
              "    }\n",
              "    80% {\n",
              "      border-color: transparent;\n",
              "      border-right-color: var(--fill-color);\n",
              "      border-bottom-color: var(--fill-color);\n",
              "    }\n",
              "    90% {\n",
              "      border-color: transparent;\n",
              "      border-bottom-color: var(--fill-color);\n",
              "    }\n",
              "  }\n",
              "</style>\n",
              "\n",
              "  <script>\n",
              "    async function quickchart(key) {\n",
              "      const quickchartButtonEl =\n",
              "        document.querySelector('#' + key + ' button');\n",
              "      quickchartButtonEl.disabled = true;  // To prevent multiple clicks.\n",
              "      quickchartButtonEl.classList.add('colab-df-spinner');\n",
              "      try {\n",
              "        const charts = await google.colab.kernel.invokeFunction(\n",
              "            'suggestCharts', [key], {});\n",
              "      } catch (error) {\n",
              "        console.error('Error during call to suggestCharts:', error);\n",
              "      }\n",
              "      quickchartButtonEl.classList.remove('colab-df-spinner');\n",
              "      quickchartButtonEl.classList.add('colab-df-quickchart-complete');\n",
              "    }\n",
              "    (() => {\n",
              "      let quickchartButtonEl =\n",
              "        document.querySelector('#df-bb54e5be-a2ec-4fa8-bf62-620ae20af73d button');\n",
              "      quickchartButtonEl.style.display =\n",
              "        google.colab.kernel.accessAllowed ? 'block' : 'none';\n",
              "    })();\n",
              "  </script>\n",
              "</div>\n",
              "\n",
              "    </div>\n",
              "  </div>\n"
            ],
            "application/vnd.google.colaboratory.intrinsic+json": {
              "type": "dataframe",
              "variable_name": "df_pipelined",
              "summary": "{\n  \"name\": \"df_pipelined\",\n  \"rows\": 59336,\n  \"fields\": [\n    {\n      \"column\": \"net_quantity\",\n      \"properties\": {\n        \"dtype\": \"number\",\n        \"std\": 0.05758182584185449,\n        \"min\": 0.0,\n        \"max\": 1.0,\n        \"num_unique_values\": 3,\n        \"samples\": [\n          1.0,\n          0.0,\n          0.4709667779543598\n        ],\n        \"semantic_type\": \"\",\n        \"description\": \"\"\n      }\n    },\n    {\n      \"column\": \"discounts\",\n      \"properties\": {\n        \"dtype\": \"number\",\n        \"std\": 0.2774395957798889,\n        \"min\": 0.0,\n        \"max\": 1.0,\n        \"num_unique_values\": 701,\n        \"samples\": [\n          0.9230907457322551,\n          0.5773584905660378,\n          0.41994609164420493\n        ],\n        \"semantic_type\": \"\",\n        \"description\": \"\"\n      }\n    },\n    {\n      \"column\": \"net_sales\",\n      \"properties\": {\n        \"dtype\": \"number\",\n        \"std\": 0.19981125078517914,\n        \"min\": 0.0,\n        \"max\": 1.0000000000000002,\n        \"num_unique_values\": 972,\n        \"samples\": [\n          0.8045937211449679,\n          0.759695290858726,\n          0.031625115420129246\n        ],\n        \"semantic_type\": \"\",\n        \"description\": \"\"\n      }\n    }\n  ]\n}"
            }
          },
          "metadata": {},
          "execution_count": 27
        }
      ]
    },
    {
      "cell_type": "markdown",
      "source": [
        "Model building"
      ],
      "metadata": {
        "id": "HFbs0qLZ6t8R"
      }
    },
    {
      "cell_type": "code",
      "source": [
        "from sklearn.cluster import KMeans,DBSCAN\n",
        "TWSS = []\n",
        "k = list(range(165, 172))\n",
        "\n",
        "for i in k:\n",
        "    kmeans = KMeans(n_clusters = i)\n",
        "    kmeans.fit(df_pipelined)\n",
        "    TWSS.append(kmeans.inertia_)\n",
        "\n",
        "TWSS\n"
      ],
      "metadata": {
        "colab": {
          "base_uri": "https://localhost:8080/"
        },
        "id": "1bmAGfAVmhON",
        "outputId": "8ce08271-a977-4e6b-c3f2-7f91ba09e2c7"
      },
      "execution_count": null,
      "outputs": [
        {
          "output_type": "execute_result",
          "data": {
            "text/plain": [
              "[0.8932164685771761,\n",
              " 0.93069617896391,\n",
              " 0.86741484909658,\n",
              " 0.850072376897148,\n",
              " 0.8903081917211805,\n",
              " 0.8145685511681802,\n",
              " 0.8009540987906519]"
            ]
          },
          "metadata": {},
          "execution_count": 28
        }
      ]
    },
    {
      "cell_type": "code",
      "source": [
        "plt.plot(k, TWSS, 'ro-'); plt.xlabel(\"No_of_Clusters\"); plt.ylabel(\"total_within_SS\")"
      ],
      "metadata": {
        "id": "z6W_NWORm6Cj",
        "colab": {
          "base_uri": "https://localhost:8080/",
          "height": 467
        },
        "outputId": "ef1d2a49-b48c-4779-eefa-6e4bb864cf18"
      },
      "execution_count": null,
      "outputs": [
        {
          "output_type": "execute_result",
          "data": {
            "text/plain": [
              "Text(0, 0.5, 'total_within_SS')"
            ]
          },
          "metadata": {},
          "execution_count": 29
        },
        {
          "output_type": "display_data",
          "data": {
            "text/plain": [
              "<Figure size 640x480 with 1 Axes>"
            ],
            "image/png": "[encoded data removed]"
          },
          "metadata": {}
        }
      ]
    },
    {
      "cell_type": "code",
      "source": [
        "df_pipelined.info()"
      ],
      "metadata": {
        "id": "4jiiwifqHTLN",
        "colab": {
          "base_uri": "https://localhost:8080/"
        },
        "outputId": "36a0659b-6208-46f1-d7d6-659ac31760e0"
      },
      "execution_count": null,
      "outputs": [
        {
          "output_type": "stream",
          "name": "stdout",
          "text": [
            "<class 'pandas.core.frame.DataFrame'>\n",
            "Index: 59336 entries, 0 to 59341\n",
            "Data columns (total 3 columns):\n",
            " #   Column        Non-Null Count  Dtype  \n",
            "---  ------        --------------  -----  \n",
            " 0   net_quantity  59336 non-null  float64\n",
            " 1   discounts     59336 non-null  float64\n",
            " 2   net_sales     59336 non-null  float64\n",
            "dtypes: float64(3)\n",
            "memory usage: 1.8 MB\n"
          ]
        }
      ]
    },
    {
      "cell_type": "code",
      "source": [
        "kmeans = KMeans(n_clusters = 165)\n",
        "kmeans.fit(df_pipelined)\n",
        "kmeans.inertia_"
      ],
      "metadata": {
        "colab": {
          "base_uri": "https://localhost:8080/"
        },
        "id": "Lk07cVhQITQl",
        "outputId": "63408ad4-ce93-4894-809c-d24827d22291"
      },
      "execution_count": null,
      "outputs": [
        {
          "output_type": "execute_result",
          "data": {
            "text/plain": [
              "0.8943178224485212"
            ]
          },
          "metadata": {},
          "execution_count": 31
        }
      ]
    },
    {
      "cell_type": "code",
      "source": [
        "from sklearn.metrics import silhouette_score\n",
        "score = silhouette_score(df_pipelined, kmeans.labels_)\n",
        "score"
      ],
      "metadata": {
        "colab": {
          "base_uri": "https://localhost:8080/"
        },
        "id": "-u77vcDqITn9",
        "outputId": "4677efea-7511-4d65-926b-0c4f218538c6"
      },
      "execution_count": null,
      "outputs": [
        {
          "output_type": "execute_result",
          "data": {
            "text/plain": [
              "0.9703291187014045"
            ]
          },
          "metadata": {},
          "execution_count": 32
        }
      ]
    },
    {
      "cell_type": "code",
      "source": [
        "db = DBSCAN(eps = 0.2, min_samples = 500)\n",
        "db_clusters = db.fit_predict(df_pipelined)\n",
        "print(\"DBSCAN Clustering: \", silhouette_score(df_pipelined, db_clusters))"
      ],
      "metadata": {
        "colab": {
          "base_uri": "https://localhost:8080/"
        },
        "id": "yIzYCMaT5Xgp",
        "outputId": "3fa384ee-86f4-4de3-bf00-5dc115421283"
      },
      "execution_count": null,
      "outputs": [
        {
          "output_type": "stream",
          "name": "stdout",
          "text": [
            "DBSCAN Clustering:  0.5220474223098943\n"
          ]
        }
      ]
    }
  ]
}